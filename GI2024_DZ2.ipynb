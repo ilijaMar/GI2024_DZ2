{
 "cells": [
  {
   "cell_type": "markdown",
   "metadata": {},
   "source": [
    "# Analiza BAM fajla korišćenjem Pysam biblioteke\n",
    "\n",
    "U ovom radu ćemo koristiti Pysam, Python biblioteku koja omogućava čitanje i manipulaciju SAM/BAM/VCF/BCF fajlovima, za analizu BAM fajla \"merged-tumor.bam\".\n",
    "\n",
    "## Kreiranje AlignmentFile objekta\n",
    "\n",
    "Prvo ćemo kreirati AlignmentFile objekat koji će nam omogućiti čitanje i pristup informacijama iz BAM fajla.\n"
   ]
  },
  {
   "cell_type": "code",
   "execution_count": 21,
   "metadata": {},
   "outputs": [],
   "source": [
    "import pysam\n",
    "\n",
    "alignment_file = pysam.AlignmentFile(\"merged-tumor.bam\", \"rb\")\n"
   ]
  },
  {
   "cell_type": "markdown",
   "metadata": {},
   "source": [
    "## Inspekcija prvog read-a iz BAM fajla\n",
    "\n",
    "Nakon što smo kreirali AlignmentFile objekat, možemo pristupiti prvim zapisima iz fajla kako bismo ih detaljnije analizirali.\n"
   ]
  },
  {
   "cell_type": "code",
   "execution_count": 22,
   "metadata": {},
   "outputs": [],
   "source": [
    "first_read = next(alignment_file)"
   ]
  },
  {
   "cell_type": "markdown",
   "metadata": {},
   "source": [
    "## Inspekcija polja u AlignedSegment-u\n",
    "\n",
    "Prilikom inspekcije prvog zapisa, možemo detaljnije pogledati polja u AlignedSegment-u, koji predstavlja jedan read iz BAM fajla.\n"
   ]
  },
  {
   "cell_type": "code",
   "execution_count": 23,
   "metadata": {},
   "outputs": [
    {
     "name": "stdout",
     "output_type": "stream",
     "text": [
      "Polja u AlignedSegment-u:\n",
      "C0HVYACXX120402:7:1207:5722:57044\t1187\t#20\t9483249\t27\t76M\t#20\t9483382\t209\tTTTTCAAACAGTATCTATGCCTGCCAAATGTGAACATATAAAAAAAAACCAGAATGTGCCATTCTGATTTAAACTG\tarray('B', [28, 28, 27, 29, 31, 30, 31, 31, 29, 31, 35, 30, 29, 31, 34, 30, 29, 23, 41, 32, 20, 30, 29, 34, 34, 29, 30, 31, 30, 30, 30, 33, 33, 26, 39, 12, 25, 19, 32, 30, 35, 28, 35, 33, 23, 33, 35, 36, 30, 38, 33, 41, 34, 35, 31, 33, 23, 30, 30, 36, 27, 32, 29, 34, 35, 41, 33, 31, 33, 29, 32, 32, 31, 31, 31, 34])\t[('XA', 'GL000217.1,-110754,76M,1;'), ('BD', 'NNNNNNNNNNNNNNNNNNNNNNNNNNNNNNNNNNNNNNNNNNNNNNNNNNNNNNNNNNNNNNNNNNNNNNNNNNNN'), ('MD', '76'), ('RG', '1'), ('BI', 'NNNNNNNNNNNNNNNNNNNNNNNNNNNNNNNNNNNNNNNNNNNNNNNNNNNNNNNNNNNNNNNNNNNNNNNNNNNN'), ('NM', 0), ('MQ', 27), ('AS', 76), ('XS', 71)]\n"
     ]
    }
   ],
   "source": [
    "print(\"Polja u AlignedSegment-u:\")\n",
    "print(first_read)"
   ]
  },
  {
   "cell_type": "markdown",
   "metadata": {},
   "source": [
    "## Analiza flag polja\n",
    "\n",
    "Flag polje je vrednost koja kodira različite osobine read-a. Na osnovu vrednosti flag polja za prvi zapis iz BAM fajla vidimo:\n",
    "\n",
    "- **read paired (0x1):** Ova vrednost označava da je read uparen sa drugim read-om.\n",
    "  \n",
    "- **read mapped in proper pair (0x2):** Flag koji označava da je read mapiran u odgovarajući par u odnosu na referentni genom.\n",
    "\n",
    "- **mate reverse strand (0x20):** Ova vrednost ukazuje da je drugi read na inverznom lancu u odnosu na referentni genom.\n",
    "\n",
    "- **second in pair (0x80):** Flag koji označava da je trenutni read drugi u paru.\n",
    "\n",
    "- **read is PCR or optical duplicate (0x400):** Ova vrednost ukazuje da je read verovatno PCR ili optički duplikat."
   ]
  },
  {
   "cell_type": "code",
   "execution_count": 24,
   "metadata": {},
   "outputs": [
    {
     "name": "stdout",
     "output_type": "stream",
     "text": [
      "Vrednost flag polja: 1187\n"
     ]
    }
   ],
   "source": [
    "print(\"Vrednost flag polja:\", first_read.flag)"
   ]
  },
  {
   "cell_type": "code",
   "execution_count": 25,
   "metadata": {},
   "outputs": [
    {
     "name": "stdout",
     "output_type": "stream",
     "text": [
      "Number of unmapped reads: 17765\n",
      "Total number of reads: 2921629\n",
      "Number of reads with mapping quality 0: 126628\n",
      "Average mapping quality for all reads: 55.91379158681681\n",
      "Average mapping quality if reads with 0 mapping quality are filtered out: 58.446975510921106\n"
     ]
    }
   ],
   "source": [
    "alignment_file = pysam.AlignmentFile(\"merged-tumor.bam\", \"rb\")\n",
    "\n",
    "\n",
    "total_reads = 0\n",
    "unmapped_reads = 0\n",
    "zero_mapping_quality_reads = 0\n",
    "total_mapping_quality = 0\n",
    "total_mapped_reads = 0\n",
    "\n",
    "\n",
    "for read in alignment_file:\n",
    "    total_reads += 1\n",
    "    total_mapping_quality += read.mapping_quality\n",
    "    if read.is_unmapped:\n",
    "        unmapped_reads += 1\n",
    "    if read.mapping_quality == 0:\n",
    "        zero_mapping_quality_reads += 1\n",
    "    else:\n",
    "        total_mapped_reads += 1\n",
    "\n",
    "average_mapping_quality = total_mapping_quality / total_reads\n",
    "\n",
    "average_mapping_quality_filtered = total_mapping_quality / total_mapped_reads\n",
    "\n",
    "\n",
    "alignment_file.close()\n",
    "\n",
    "print(\"Number of unmapped reads:\", unmapped_reads)\n",
    "print(\"Total number of reads:\", total_reads)\n",
    "print(\"Number of reads with mapping quality 0:\", zero_mapping_quality_reads)\n",
    "print(\"Average mapping quality for all reads:\", average_mapping_quality)\n",
    "print(\"Average mapping quality if reads with 0 mapping quality are filtered out:\", average_mapping_quality_filtered)\n"
   ]
  }
 ],
 "metadata": {
  "kernelspec": {
   "display_name": "Python 3",
   "language": "python",
   "name": "python3"
  },
  "language_info": {
   "codemirror_mode": {
    "name": "ipython",
    "version": 3
   },
   "file_extension": ".py",
   "mimetype": "text/x-python",
   "name": "python",
   "nbconvert_exporter": "python",
   "pygments_lexer": "ipython3",
   "version": "3.10.12"
  }
 },
 "nbformat": 4,
 "nbformat_minor": 2
}
